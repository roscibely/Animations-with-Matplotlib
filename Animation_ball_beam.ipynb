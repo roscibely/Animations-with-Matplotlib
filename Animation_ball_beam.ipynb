{
  "nbformat": 4,
  "nbformat_minor": 0,
  "metadata": {
    "colab": {
      "name": "Animation ball beam.ipynb",
      "provenance": [],
      "collapsed_sections": [],
      "authorship_tag": "ABX9TyO2+2EWO6wEYvy8Dv88B2cT",
      "include_colab_link": true
    },
    "kernelspec": {
      "name": "python3",
      "display_name": "Python 3"
    }
  },
  "cells": [
    {
      "cell_type": "markdown",
      "metadata": {
        "id": "view-in-github",
        "colab_type": "text"
      },
      "source": [
        "<a href=\"https://colab.research.google.com/github/roscibely/Animations-with-Matplotlib/blob/main/Animation_ball_beam.ipynb\" target=\"_parent\"><img src=\"https://colab.research.google.com/assets/colab-badge.svg\" alt=\"Open In Colab\"/></a>"
      ]
    },
    {
      "cell_type": "code",
      "metadata": {
        "id": "YKhs3dN43t-Q"
      },
      "source": [
        "%matplotlib notebook\n",
        "\n",
        "from pylab import *\n",
        "import time\n",
        "from ipywidgets import interact, interactive\n",
        "\n",
        "# limit on beam angle in radians\n",
        "ulimit = 0.2\n",
        "\n",
        "def draw_beam(fig,ax):\n",
        "    # Draw the ball and beam diagram on a given figure and axis\n",
        "    ax.axis('off')\n",
        "    ax.axis('equal')\n",
        "    ax.set(xlim = (-0.2,1.2), ylim = (-0.3,0.3))\n",
        "    \n",
        "    # draw ball, beam, and set point patch\n",
        "    ax.plot(0.5,0.049,'r.',ms=50)\n",
        "    ax.plot(array([0.0,cos(0.0)]), array([0.0,sin(0.0)]), lw=5)\n",
        "    ax.add_patch(Polygon([[0.5, -0.01], [0.5-0.03, -0.05], [0.5+0.03, -0.05]]))\n",
        "\n",
        "    # draw pivot patch\n",
        "    ax.add_patch(Polygon([[0.0,0.0],[0.02,-0.25],[-0.02,-0.25]]))\n",
        "    \n",
        "    # beam hi and lo limit patches\n",
        "    ulimit = 0.2\n",
        "    xa = cos(ulimit)\n",
        "    ya = sin(ulimit)\n",
        "    ax.add_patch(Polygon([[xa-0.05, ya+0.01],[xa+0.05, ya+0.01], \\\n",
        "                          [xa+0.05, ya+0.02],[xa-0.05, ya+0.02]]))\n",
        "    ax.add_patch(Polygon([[xa-0.05,-ya-0.01],[xa+0.05,-ya-0.01], \\\n",
        "                          [xa+0.05,-ya-0.02],[xa-0.05,-ya-0.02]]))\n",
        "    fig.canvas.draw()\n",
        "\n",
        "def update_beam(fig,ax,x,u,SP):\n",
        "    # Update the ball and beam diagram with current state values.\n",
        "    \n",
        "    # Limit beam angle\n",
        "    u = -ulimit if u < -ulimit else ulimit if u > ulimit else u\n",
        "    \n",
        "    # Determine ball position, and if it rolled off the beam\n",
        "    x = -0.05 if x < 0 else 1.02 if x > 1.0 else x\n",
        "    y = 0.049/cos(u) + x*sin(u) if x >= 0.0 and x <= 1.0 else -0.2\n",
        "\n",
        "    # update ball, beam, and setpoint positions\n",
        "    ax.lines[0].set(xdata=x, ydata=y)\n",
        "    ax.lines[1].set(xdata=[0.0,cos(u)], ydata=[0.0,sin(u)])\n",
        "    ax.patches[0].set_xy([[SP*cos(u), -0.01 + SP*sin(u)], \\\n",
        "              [SP*cos(u) - 0.03, -0.05 + SP*sin(u)], \\\n",
        "              [SP*cos(u) + 0.03, -0.05 + SP*sin(u)]])\n",
        "    fig.canvas.draw()\n",
        "    \n",
        "def draw_plot(fig,ax,SP):\n",
        "    \n",
        "    # set up xplot to display ball position\n",
        "    xplot = ax\n",
        "    xplot.set(xlim=(0,tf),ylim=(0,1),xlabel='Time [dimensionless]',ylabel='Position')\n",
        "    xplot.plot([],[],'b')\n",
        "    xplot.plot([0,tf],[SP,SP],'b--')\n",
        "\n",
        "    # set up second axist to display beam angle\n",
        "    uplot = ax.twinx()\n",
        "    uplot.set(xlim=(0,tf),ylim=(-ulimit,ulimit))\n",
        "    uplot.set_ylabel('Beam Angle', color='r')\n",
        "    for tl in uplot.get_yticklabels():\n",
        "        tl.set_color('r')\n",
        "    uplot.plot([],[],'r')\n",
        "    uplot.plot([0,tf],[0,0],'r--')\n",
        "    \n",
        "    # return lines for updating\n",
        "    return xplot,uplot\n",
        "\n",
        "def update_plot(ax,t,y):\n",
        "    tdata = append(ax.lines[0].get_xdata(),t)\n",
        "    ydata = append(ax.lines[0].get_ydata(),y)\n",
        "    ax.lines[0].set(xdata=tdata, ydata=ydata)"
      ],
      "execution_count": 1,
      "outputs": []
    },
    {
      "cell_type": "code",
      "metadata": {
        "id": "9A5FE5Ix3yUr",
        "colab": {
          "base_uri": "https://localhost:8080/",
          "height": 194
        },
        "outputId": "11b4e43f-aaaa-49f1-ae90-2827eb570b33"
      },
      "source": [
        "fig,ax = subplots(1,1,figsize=(8,3))\n",
        "draw_beam(fig,ax)\n",
        "update_beam(fig,ax,0.5,0.1,0.5)"
      ],
      "execution_count": 2,
      "outputs": [
        {
          "output_type": "display_data",
          "data": {
            "image/png": "[encoded data removed]",
            "text/plain": [
              "<Figure size 576x216 with 1 Axes>"
            ]
          },
          "metadata": {
            "tags": [],
            "needs_background": "light"
          }
        }
      ]
    },
    {
      "cell_type": "code",
      "metadata": {
        "id": "F6L9UNsk355n"
      },
      "source": [
        "x=0.1\n",
        "u=0.5\n",
        "SP=0.5"
      ],
      "execution_count": 4,
      "outputs": []
    },
    {
      "cell_type": "code",
      "metadata": {
        "id": "UHxwXzxE32Kq",
        "colab": {
          "base_uri": "https://localhost:8080/",
          "height": 406
        },
        "outputId": "ba240050-e1c7-489d-8472-a2e0a08fa0a2"
      },
      "source": [
        "# simulation parameters\n",
        "dt = 0.05\n",
        "tf = 10.0\n",
        "\n",
        "# initialize simulation \n",
        "t = 0.0      # initial time\n",
        "x = 0.0      # initial ball position\n",
        "v = 0.0      # initial ball velocity\n",
        "\n",
        "# set up figure window with two axes\n",
        "fig,ax = subplots(2,1,figsize=(8,6))\n",
        "beam_axes = ax[0]\n",
        "plot_axes = ax[1]\n",
        "\n",
        "# draw ball and beam apparatus\n",
        "draw_beam(fig,beam_axes)\n",
        "update_beam(fig,beam_axes,x,u,0.5)\n",
        "\n",
        "# draw plotting axes\n",
        "xplot,uplot = draw_plot(fig,plot_axes,SP)\n",
        "t=np.arange(0, 10.0, dt)\n",
        "print(len(t))\n",
        "# simulation/animation\n",
        "for i in range(len(t)):\n",
        "    # beam angle\n",
        "    if t[i] <= 1.0:\n",
        "      u = 0.0 \n",
        "    else:\n",
        "      u= -0.15*sin(t[i]-1.0)\n",
        "    # update velocity and position\n",
        "    v += -sin(u)*dt\n",
        "    x += v*dt\n",
        "    \n",
        "    # update plots\n",
        "    update_beam(fig,beam_axes,x,u,SP)\n",
        "    update_plot(xplot,t[i],x)\n",
        "    update_plot(uplot,t[i],u)\n",
        "    \n",
        "    # pause for time step\n",
        "    time.sleep(dt)"
      ],
      "execution_count": 5,
      "outputs": [
        {
          "output_type": "stream",
          "text": [
            "200\n"
          ],
          "name": "stdout"
        },
        {
          "output_type": "display_data",
          "data": {
            "image/png": "[encoded data removed]",
            "text/plain": [
              "<Figure size 576x432 with 3 Axes>"
            ]
          },
          "metadata": {
            "tags": [],
            "needs_background": "light"
          }
        }
      ]
    }
  ]
}